{
 "cells": [
  {
   "cell_type": "code",
   "execution_count": 52,
   "id": "b41e917b",
   "metadata": {},
   "outputs": [],
   "source": [
    "import gymnasium as gym\n",
    "from gymnasium.wrappers.vector import NumpyToTorch\n",
    "import torch\n",
    "\n",
    "device = 'cuda' if torch.cuda.is_available() else 'cpu'"
   ]
  },
  {
   "cell_type": "code",
   "execution_count": 53,
   "id": "8b2f0d04",
   "metadata": {},
   "outputs": [],
   "source": [
    "env = gym.make_vec(\n",
    "    'CartPole-v1', \n",
    "    num_envs = 4, \n",
    ")\n",
    "env = NumpyToTorch(env, device = device)"
   ]
  },
  {
   "cell_type": "markdown",
   "id": "4cfdeb12",
   "metadata": {},
   "source": [
    "Checking out environments"
   ]
  },
  {
   "cell_type": "code",
   "execution_count": 54,
   "id": "001819ea",
   "metadata": {},
   "outputs": [
    {
     "data": {
      "text/plain": [
       "Box([[-4.8               -inf -0.41887903        -inf]\n",
       " [-4.8               -inf -0.41887903        -inf]\n",
       " [-4.8               -inf -0.41887903        -inf]\n",
       " [-4.8               -inf -0.41887903        -inf]], [[4.8               inf 0.41887903        inf]\n",
       " [4.8               inf 0.41887903        inf]\n",
       " [4.8               inf 0.41887903        inf]\n",
       " [4.8               inf 0.41887903        inf]], (4, 4), float32)"
      ]
     },
     "execution_count": 54,
     "metadata": {},
     "output_type": "execute_result"
    }
   ],
   "source": [
    "env.observation_space"
   ]
  },
  {
   "cell_type": "code",
   "execution_count": 55,
   "id": "4df50755",
   "metadata": {},
   "outputs": [
    {
     "data": {
      "text/plain": [
       "array([[-1.173075  ,  0.22763254, -0.22163169,  1.3995109 ],\n",
       "       [ 1.096007  , -1.97689   , -0.29131114, -0.62676555],\n",
       "       [-0.13612396, -0.15669058, -0.0885221 ,  0.81459314],\n",
       "       [-1.613287  , -0.66828775,  0.36251318,  0.6611499 ]],\n",
       "      dtype=float32)"
      ]
     },
     "execution_count": 55,
     "metadata": {},
     "output_type": "execute_result"
    }
   ],
   "source": [
    "obs_sample = env.observation_space.sample()\n",
    "obs_sample"
   ]
  },
  {
   "cell_type": "code",
   "execution_count": 56,
   "id": "61edaaca",
   "metadata": {},
   "outputs": [
    {
     "data": {
      "text/plain": [
       "(4, 4)"
      ]
     },
     "execution_count": 56,
     "metadata": {},
     "output_type": "execute_result"
    }
   ],
   "source": [
    "obs_sample.shape"
   ]
  },
  {
   "cell_type": "code",
   "execution_count": 57,
   "id": "2ddf54af",
   "metadata": {},
   "outputs": [
    {
     "data": {
      "text/plain": [
       "MultiDiscrete([2 2 2 2])"
      ]
     },
     "execution_count": 57,
     "metadata": {},
     "output_type": "execute_result"
    }
   ],
   "source": [
    "env.action_space"
   ]
  },
  {
   "cell_type": "code",
   "execution_count": 58,
   "id": "816f1d6e",
   "metadata": {},
   "outputs": [
    {
     "data": {
      "text/plain": [
       "array([0, 0, 0, 1])"
      ]
     },
     "execution_count": 58,
     "metadata": {},
     "output_type": "execute_result"
    }
   ],
   "source": [
    "actions_sample = env.action_space.sample()\n",
    "actions_sample"
   ]
  },
  {
   "cell_type": "code",
   "execution_count": 59,
   "id": "595fe447",
   "metadata": {},
   "outputs": [
    {
     "data": {
      "text/plain": [
       "tensor([[-0.0397, -0.0035, -0.0203,  0.0022],\n",
       "        [-0.0367, -0.0484, -0.0081,  0.0435],\n",
       "        [-0.0277,  0.0064, -0.0469,  0.0068],\n",
       "        [-0.0300,  0.0179,  0.0409,  0.0463]], device='cuda:0')"
      ]
     },
     "execution_count": 59,
     "metadata": {},
     "output_type": "execute_result"
    }
   ],
   "source": [
    "states, info = env.reset()\n",
    "states"
   ]
  },
  {
   "cell_type": "code",
   "execution_count": 60,
   "id": "7af40433",
   "metadata": {},
   "outputs": [],
   "source": [
    "next_states, rewards, dones, terminated, _ = env.step(actions_sample)"
   ]
  },
  {
   "cell_type": "code",
   "execution_count": 61,
   "id": "fd0b37c3",
   "metadata": {},
   "outputs": [
    {
     "data": {
      "text/plain": [
       "tensor([[-0.0398, -0.1983, -0.0202,  0.2885],\n",
       "        [-0.0377, -0.2434, -0.0073,  0.3336],\n",
       "        [-0.0276, -0.1880, -0.0468,  0.2843],\n",
       "        [-0.0296,  0.2124,  0.0418, -0.2332]], device='cuda:0')"
      ]
     },
     "execution_count": 61,
     "metadata": {},
     "output_type": "execute_result"
    }
   ],
   "source": [
    "next_states"
   ]
  },
  {
   "cell_type": "code",
   "execution_count": 62,
   "id": "9d7b0951",
   "metadata": {},
   "outputs": [
    {
     "data": {
      "text/plain": [
       "tensor([1., 1., 1., 1.], device='cuda:0')"
      ]
     },
     "execution_count": 62,
     "metadata": {},
     "output_type": "execute_result"
    }
   ],
   "source": [
    "rewards"
   ]
  },
  {
   "cell_type": "code",
   "execution_count": 63,
   "id": "ad3a52fd",
   "metadata": {},
   "outputs": [
    {
     "data": {
      "text/plain": [
       "tensor([False, False, False, False], device='cuda:0')"
      ]
     },
     "execution_count": 63,
     "metadata": {},
     "output_type": "execute_result"
    }
   ],
   "source": [
    "dones # done is when state successfully finished or passed"
   ]
  },
  {
   "cell_type": "code",
   "execution_count": 64,
   "id": "97886d12",
   "metadata": {},
   "outputs": [],
   "source": [
    "# test_dones = torch.from_numpy(dones)\n",
    "# for i in range(test_dones.size().numel()):\n",
    "#     print(test_dones[i])"
   ]
  },
  {
   "cell_type": "code",
   "execution_count": 65,
   "id": "435cfc89",
   "metadata": {},
   "outputs": [
    {
     "data": {
      "text/plain": [
       "tensor([False, False, False, False], device='cuda:0')"
      ]
     },
     "execution_count": 65,
     "metadata": {},
     "output_type": "execute_result"
    }
   ],
   "source": [
    "terminated # terminated is when agent failed "
   ]
  },
  {
   "cell_type": "markdown",
   "id": "9a368cfc",
   "metadata": {},
   "source": [
    "Setting up networks"
   ]
  },
  {
   "cell_type": "code",
   "execution_count": 66,
   "id": "94831b5b",
   "metadata": {},
   "outputs": [],
   "source": [
    "import random\n",
    "import numpy as np\n",
    "from src.ppo import *\n",
    "\n",
    "seed = 42\n",
    "torch.manual_seed(seed)\n",
    "np.random.seed(seed)\n",
    "random.seed(seed)"
   ]
  },
  {
   "cell_type": "code",
   "execution_count": 67,
   "id": "32502f77",
   "metadata": {},
   "outputs": [],
   "source": [
    "actor = Actor(4, 2, 64).to(device)\n",
    "critic = Critic(4, 1, 64).to(device)"
   ]
  },
  {
   "cell_type": "code",
   "execution_count": 68,
   "id": "64e34abd",
   "metadata": {},
   "outputs": [
    {
     "data": {
      "text/plain": [
       "Categorical(logits: torch.Size([4, 2]))"
      ]
     },
     "execution_count": 68,
     "metadata": {},
     "output_type": "execute_result"
    }
   ],
   "source": [
    "obs_sample = torch.from_numpy(obs_sample).to(device)\n",
    "dist = actor.forward(obs_sample)\n",
    "dist"
   ]
  },
  {
   "cell_type": "code",
   "execution_count": 69,
   "id": "8c4f1421",
   "metadata": {},
   "outputs": [],
   "source": [
    "test_sample = dist.sample()"
   ]
  },
  {
   "cell_type": "code",
   "execution_count": 70,
   "id": "54263ee4",
   "metadata": {},
   "outputs": [
    {
     "data": {
      "text/plain": [
       "tensor([-0.7003, -0.7517, -0.6674, -0.6854], device='cuda:0',\n",
       "       grad_fn=<SqueezeBackward1>)"
      ]
     },
     "execution_count": 70,
     "metadata": {},
     "output_type": "execute_result"
    }
   ],
   "source": [
    "dist.log_prob(test_sample)"
   ]
  },
  {
   "cell_type": "code",
   "execution_count": 71,
   "id": "deff9ef9",
   "metadata": {},
   "outputs": [
    {
     "data": {
      "text/plain": [
       "tensor([0.4965, 0.4716, 0.5131, 0.5039], device='cuda:0',\n",
       "       grad_fn=<ExpBackward0>)"
      ]
     },
     "execution_count": 71,
     "metadata": {},
     "output_type": "execute_result"
    }
   ],
   "source": [
    "dist.log_prob(test_sample).exp()"
   ]
  },
  {
   "cell_type": "code",
   "execution_count": 72,
   "id": "b29b938c",
   "metadata": {},
   "outputs": [
    {
     "data": {
      "text/plain": [
       "tensor([[-0.2082],\n",
       "        [-0.2582],\n",
       "        [-0.1629],\n",
       "        [-0.2144]], device='cuda:0', grad_fn=<AddmmBackward0>)"
      ]
     },
     "execution_count": 72,
     "metadata": {},
     "output_type": "execute_result"
    }
   ],
   "source": [
    "critic.forward(obs_sample)"
   ]
  },
  {
   "cell_type": "code",
   "execution_count": 73,
   "id": "b3704ddd",
   "metadata": {},
   "outputs": [],
   "source": [
    "# agent = Agent(actor, critic, 0.2, 0.99, 0.8, 0.5, 0.01, 0.0003, 0.0003, device, 8)\n",
    "agent = Agent(actor, critic, 0.2, 0.99, 0.95, 0.5, 0.01, 0.0003, 0.001, device, 64)"
   ]
  },
  {
   "cell_type": "code",
   "execution_count": 74,
   "id": "6d86ed94",
   "metadata": {},
   "outputs": [
    {
     "name": "stdout",
     "output_type": "stream",
     "text": [
      "finished episode: 0\n",
      "total reward: 1956.0\n",
      "number of steps: 512\n",
      "---------------\n",
      "new best model... saving...\n",
      "finished episode: 1\n",
      "total reward: 1966.0\n",
      "number of steps: 512\n",
      "---------------\n",
      "new best model... saving...\n",
      "finished episode: 2\n",
      "total reward: 1991.0\n",
      "number of steps: 512\n",
      "---------------\n",
      "new best model... saving...\n",
      "finished episode: 3\n",
      "total reward: 2007.0\n",
      "number of steps: 512\n",
      "---------------\n",
      "new best model... saving...\n",
      "finished episode: 4\n",
      "total reward: 2022.0\n",
      "number of steps: 512\n",
      "---------------\n",
      "new best model... saving...\n",
      "finished episode: 5\n",
      "total reward: 2019.0\n",
      "number of steps: 512\n",
      "---------------\n",
      "finished episode: 6\n",
      "total reward: 2019.0\n",
      "number of steps: 512\n",
      "---------------\n",
      "finished episode: 7\n",
      "total reward: 2021.0\n",
      "number of steps: 512\n",
      "---------------\n",
      "finished episode: 8\n",
      "total reward: 2030.0\n",
      "number of steps: 512\n",
      "---------------\n",
      "new best model... saving...\n",
      "finished episode: 9\n",
      "total reward: 2030.0\n",
      "number of steps: 512\n",
      "---------------\n",
      "finished episode: 10\n",
      "total reward: 2034.0\n",
      "number of steps: 512\n",
      "---------------\n",
      "new best model... saving...\n",
      "finished episode: 11\n",
      "total reward: 2039.0\n",
      "number of steps: 512\n",
      "---------------\n",
      "new best model... saving...\n",
      "finished episode: 12\n",
      "total reward: 2037.0\n",
      "number of steps: 512\n",
      "---------------\n",
      "finished episode: 13\n",
      "total reward: 2042.0\n",
      "number of steps: 512\n",
      "---------------\n",
      "new best model... saving...\n",
      "finished episode: 14\n",
      "total reward: 2043.0\n",
      "number of steps: 512\n",
      "---------------\n",
      "new best model... saving...\n",
      "finished episode: 15\n",
      "total reward: 2044.0\n",
      "number of steps: 512\n",
      "---------------\n",
      "new best model... saving...\n",
      "finished episode: 16\n",
      "total reward: 2040.0\n",
      "number of steps: 512\n",
      "---------------\n",
      "finished episode: 17\n",
      "total reward: 2043.0\n",
      "number of steps: 512\n",
      "---------------\n",
      "finished episode: 18\n",
      "total reward: 2041.0\n",
      "number of steps: 512\n",
      "---------------\n",
      "finished episode: 19\n",
      "total reward: 2042.0\n",
      "number of steps: 512\n",
      "---------------\n",
      "finished episode: 20\n",
      "total reward: 2041.0\n",
      "number of steps: 512\n",
      "---------------\n",
      "finished episode: 21\n",
      "total reward: 2043.0\n",
      "number of steps: 512\n",
      "---------------\n",
      "finished episode: 22\n",
      "total reward: 2044.0\n",
      "number of steps: 512\n",
      "---------------\n",
      "finished episode: 23\n",
      "total reward: 2043.0\n",
      "number of steps: 512\n",
      "---------------\n",
      "finished episode: 24\n",
      "total reward: 2042.0\n",
      "number of steps: 512\n",
      "---------------\n",
      "finished episode: 25\n",
      "total reward: 2042.0\n",
      "number of steps: 512\n",
      "---------------\n",
      "finished episode: 26\n",
      "total reward: 2042.0\n",
      "number of steps: 512\n",
      "---------------\n",
      "finished episode: 27\n",
      "total reward: 2043.0\n",
      "number of steps: 512\n",
      "---------------\n",
      "finished episode: 28\n",
      "total reward: 2040.0\n",
      "number of steps: 512\n",
      "---------------\n",
      "finished episode: 29\n",
      "total reward: 2038.0\n",
      "number of steps: 512\n",
      "---------------\n",
      "finished episode: 30\n",
      "total reward: 2041.0\n",
      "number of steps: 512\n",
      "---------------\n",
      "finished episode: 31\n",
      "total reward: 2043.0\n",
      "number of steps: 512\n",
      "---------------\n",
      "finished episode: 32\n",
      "total reward: 2042.0\n",
      "number of steps: 512\n",
      "---------------\n",
      "finished episode: 33\n",
      "total reward: 2041.0\n",
      "number of steps: 512\n",
      "---------------\n",
      "finished episode: 34\n",
      "total reward: 2044.0\n",
      "number of steps: 512\n",
      "---------------\n",
      "finished episode: 35\n",
      "total reward: 2041.0\n",
      "number of steps: 512\n",
      "---------------\n",
      "finished episode: 36\n",
      "total reward: 2044.0\n",
      "number of steps: 512\n",
      "---------------\n",
      "finished episode: 37\n",
      "total reward: 2041.0\n",
      "number of steps: 512\n",
      "---------------\n",
      "finished episode: 38\n",
      "total reward: 2040.0\n",
      "number of steps: 512\n",
      "---------------\n",
      "finished episode: 39\n",
      "total reward: 2039.0\n",
      "number of steps: 512\n",
      "---------------\n",
      "finished episode: 40\n",
      "total reward: 2035.0\n",
      "number of steps: 512\n",
      "---------------\n",
      "finished episode: 41\n",
      "total reward: 2040.0\n",
      "number of steps: 512\n",
      "---------------\n",
      "finished episode: 42\n",
      "total reward: 2043.0\n",
      "number of steps: 512\n",
      "---------------\n",
      "finished episode: 43\n",
      "total reward: 2044.0\n",
      "number of steps: 512\n",
      "---------------\n",
      "finished episode: 44\n",
      "total reward: 2044.0\n",
      "number of steps: 512\n",
      "---------------\n",
      "finished episode: 45\n",
      "total reward: 2043.0\n",
      "number of steps: 512\n",
      "---------------\n",
      "finished episode: 46\n",
      "total reward: 2042.0\n",
      "number of steps: 512\n",
      "---------------\n",
      "finished episode: 47\n",
      "total reward: 2042.0\n",
      "number of steps: 512\n",
      "---------------\n",
      "finished episode: 48\n",
      "total reward: 2041.0\n",
      "number of steps: 512\n",
      "---------------\n",
      "finished episode: 49\n",
      "total reward: 2040.0\n",
      "number of steps: 512\n",
      "---------------\n",
      "finished episode: 50\n",
      "total reward: 2040.0\n",
      "number of steps: 512\n",
      "---------------\n",
      "finished episode: 51\n",
      "total reward: 2044.0\n",
      "number of steps: 512\n",
      "---------------\n",
      "finished episode: 52\n",
      "total reward: 2042.0\n",
      "number of steps: 512\n",
      "---------------\n",
      "finished episode: 53\n",
      "total reward: 2040.0\n",
      "number of steps: 512\n",
      "---------------\n",
      "finished episode: 54\n",
      "total reward: 2041.0\n",
      "number of steps: 512\n",
      "---------------\n",
      "finished episode: 55\n",
      "total reward: 2043.0\n",
      "number of steps: 512\n",
      "---------------\n",
      "finished episode: 56\n",
      "total reward: 2044.0\n",
      "number of steps: 512\n",
      "---------------\n",
      "finished episode: 57\n",
      "total reward: 2042.0\n",
      "number of steps: 512\n",
      "---------------\n",
      "finished episode: 58\n",
      "total reward: 2041.0\n",
      "number of steps: 512\n",
      "---------------\n",
      "finished episode: 59\n",
      "total reward: 2039.0\n",
      "number of steps: 512\n",
      "---------------\n",
      "finished episode: 60\n",
      "total reward: 2043.0\n",
      "number of steps: 512\n",
      "---------------\n",
      "finished episode: 61\n",
      "total reward: 2040.0\n",
      "number of steps: 512\n",
      "---------------\n",
      "finished episode: 62\n",
      "total reward: 2041.0\n",
      "number of steps: 512\n",
      "---------------\n",
      "finished episode: 63\n",
      "total reward: 2042.0\n",
      "number of steps: 512\n",
      "---------------\n",
      "finished episode: 64\n",
      "total reward: 2043.0\n",
      "number of steps: 512\n",
      "---------------\n",
      "finished episode: 65\n",
      "total reward: 2044.0\n",
      "number of steps: 512\n",
      "---------------\n",
      "finished episode: 66\n",
      "total reward: 2044.0\n",
      "number of steps: 512\n",
      "---------------\n",
      "finished episode: 67\n",
      "total reward: 2042.0\n",
      "number of steps: 512\n",
      "---------------\n",
      "finished episode: 68\n",
      "total reward: 2044.0\n",
      "number of steps: 512\n",
      "---------------\n",
      "finished episode: 69\n",
      "total reward: 2043.0\n",
      "number of steps: 512\n",
      "---------------\n",
      "finished episode: 70\n",
      "total reward: 2043.0\n",
      "number of steps: 512\n",
      "---------------\n",
      "finished episode: 71\n",
      "total reward: 2042.0\n",
      "number of steps: 512\n",
      "---------------\n",
      "finished episode: 72\n",
      "total reward: 2041.0\n",
      "number of steps: 512\n",
      "---------------\n",
      "finished episode: 73\n",
      "total reward: 2043.0\n",
      "number of steps: 512\n",
      "---------------\n",
      "finished episode: 74\n",
      "total reward: 2040.0\n",
      "number of steps: 512\n",
      "---------------\n",
      "finished episode: 75\n",
      "total reward: 2042.0\n",
      "number of steps: 512\n",
      "---------------\n",
      "finished episode: 76\n",
      "total reward: 2044.0\n",
      "number of steps: 512\n",
      "---------------\n",
      "finished episode: 77\n",
      "total reward: 2041.0\n",
      "number of steps: 512\n",
      "---------------\n",
      "finished episode: 78\n",
      "total reward: 2042.0\n",
      "number of steps: 512\n",
      "---------------\n",
      "finished episode: 79\n",
      "total reward: 2043.0\n",
      "number of steps: 512\n",
      "---------------\n",
      "finished episode: 80\n",
      "total reward: 2041.0\n",
      "number of steps: 512\n",
      "---------------\n",
      "finished episode: 81\n",
      "total reward: 2040.0\n",
      "number of steps: 512\n",
      "---------------\n",
      "finished episode: 82\n",
      "total reward: 2040.0\n",
      "number of steps: 512\n",
      "---------------\n",
      "finished episode: 83\n",
      "total reward: 2040.0\n",
      "number of steps: 512\n",
      "---------------\n",
      "finished episode: 84\n",
      "total reward: 2041.0\n",
      "number of steps: 512\n",
      "---------------\n",
      "finished episode: 85\n",
      "total reward: 2041.0\n",
      "number of steps: 512\n",
      "---------------\n",
      "finished episode: 86\n",
      "total reward: 2042.0\n",
      "number of steps: 512\n",
      "---------------\n",
      "finished episode: 87\n",
      "total reward: 2042.0\n",
      "number of steps: 512\n",
      "---------------\n",
      "finished episode: 88\n",
      "total reward: 2040.0\n",
      "number of steps: 512\n",
      "---------------\n",
      "finished episode: 89\n",
      "total reward: 2044.0\n",
      "number of steps: 512\n",
      "---------------\n",
      "finished episode: 90\n",
      "total reward: 2041.0\n",
      "number of steps: 512\n",
      "---------------\n",
      "finished episode: 91\n",
      "total reward: 2039.0\n",
      "number of steps: 512\n",
      "---------------\n",
      "finished episode: 92\n",
      "total reward: 2038.0\n",
      "number of steps: 512\n",
      "---------------\n",
      "finished episode: 93\n",
      "total reward: 2039.0\n",
      "number of steps: 512\n",
      "---------------\n",
      "finished episode: 94\n",
      "total reward: 2039.0\n",
      "number of steps: 512\n",
      "---------------\n",
      "finished episode: 95\n",
      "total reward: 2042.0\n",
      "number of steps: 512\n",
      "---------------\n",
      "finished episode: 96\n",
      "total reward: 2044.0\n",
      "number of steps: 512\n",
      "---------------\n",
      "finished episode: 97\n",
      "total reward: 2044.0\n",
      "number of steps: 512\n",
      "---------------\n",
      "finished episode: 98\n",
      "total reward: 2044.0\n",
      "number of steps: 512\n",
      "---------------\n",
      "finished episode: 99\n",
      "total reward: 2044.0\n",
      "number of steps: 512\n",
      "---------------\n"
     ]
    }
   ],
   "source": [
    "train(env, agent, 100, 512, 4, 'models/cartpole_agent.pt', True)"
   ]
  },
  {
   "cell_type": "code",
   "execution_count": 75,
   "id": "87b7b050",
   "metadata": {},
   "outputs": [
    {
     "data": {
      "text/plain": [
       "Text(0, 0.5, 'reward')"
      ]
     },
     "execution_count": 75,
     "metadata": {},
     "output_type": "execute_result"
    },
    {
     "data": {
      "image/png": "[encoded data removed]",
      "text/plain": [
       "<Figure size 640x480 with 1 Axes>"
      ]
     },
     "metadata": {},
     "output_type": "display_data"
    }
   ],
   "source": [
    "import matplotlib.pyplot as plt\n",
    "plt.plot(agent.all_rewards)\n",
    "plt.xlabel('episode')\n",
    "plt.ylabel('reward')    "
   ]
  },
  {
   "cell_type": "code",
   "execution_count": 76,
   "id": "43e88c81",
   "metadata": {},
   "outputs": [],
   "source": [
    "env.close()"
   ]
  },
  {
   "cell_type": "code",
   "execution_count": null,
   "id": "0ba901bc",
   "metadata": {},
   "outputs": [],
   "source": []
  }
 ],
 "metadata": {
  "kernelspec": {
   "display_name": "venv (3.10.12)",
   "language": "python",
   "name": "python3"
  },
  "language_info": {
   "codemirror_mode": {
    "name": "ipython",
    "version": 3
   },
   "file_extension": ".py",
   "mimetype": "text/x-python",
   "name": "python",
   "nbconvert_exporter": "python",
   "pygments_lexer": "ipython3",
   "version": "3.10.12"
  }
 },
 "nbformat": 4,
 "nbformat_minor": 5
}
