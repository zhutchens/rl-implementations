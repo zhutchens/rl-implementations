{
 "cells": [
  {
   "cell_type": "code",
   "execution_count": 1,
   "id": "b41e917b",
   "metadata": {},
   "outputs": [
    {
     "name": "stderr",
     "output_type": "stream",
     "text": [
      "/home/zhutchens/projects/RL/venv/lib/python3.10/site-packages/torch/cuda/__init__.py:182: UserWarning: CUDA initialization: CUDA unknown error - this may be due to an incorrectly set up environment, e.g. changing env variable CUDA_VISIBLE_DEVICES after program start. Setting the available devices to be zero. (Triggered internally at /pytorch/c10/cuda/CUDAFunctions.cpp:109.)\n",
      "  return torch._C._cuda_getDeviceCount() > 0\n"
     ]
    }
   ],
   "source": [
    "import gymnasium as gym\n",
    "from gymnasium.wrappers.vector import NumpyToTorch\n",
    "import torch\n",
    "\n",
    "device = 'cuda' if torch.cuda.is_available() else 'cpu'"
   ]
  },
  {
   "cell_type": "code",
   "execution_count": 2,
   "id": "8b2f0d04",
   "metadata": {},
   "outputs": [],
   "source": [
    "env = gym.make_vec(\n",
    "    'CartPole-v1', \n",
    "    num_envs = 4, \n",
    ")\n",
    "env = NumpyToTorch(env, device = device)"
   ]
  },
  {
   "cell_type": "markdown",
   "id": "4cfdeb12",
   "metadata": {},
   "source": [
    "Checking out environments"
   ]
  },
  {
   "cell_type": "code",
   "execution_count": 3,
   "id": "001819ea",
   "metadata": {},
   "outputs": [
    {
     "data": {
      "text/plain": [
       "Box([[-4.8               -inf -0.41887903        -inf]\n",
       " [-4.8               -inf -0.41887903        -inf]\n",
       " [-4.8               -inf -0.41887903        -inf]\n",
       " [-4.8               -inf -0.41887903        -inf]], [[4.8               inf 0.41887903        inf]\n",
       " [4.8               inf 0.41887903        inf]\n",
       " [4.8               inf 0.41887903        inf]\n",
       " [4.8               inf 0.41887903        inf]], (4, 4), float32)"
      ]
     },
     "execution_count": 3,
     "metadata": {},
     "output_type": "execute_result"
    }
   ],
   "source": [
    "env.observation_space"
   ]
  },
  {
   "cell_type": "code",
   "execution_count": 4,
   "id": "4df50755",
   "metadata": {},
   "outputs": [
    {
     "data": {
      "text/plain": [
       "array([[-4.4733505 , -1.2542576 , -0.1898189 ,  0.49557266],\n",
       "       [ 1.5961576 ,  0.62764764,  0.26419038,  1.7766181 ],\n",
       "       [-1.4998348 ,  1.392912  , -0.23623912, -0.136829  ],\n",
       "       [-2.1369746 , -0.7790915 ,  0.07926133, -1.4679248 ]],\n",
       "      dtype=float32)"
      ]
     },
     "execution_count": 4,
     "metadata": {},
     "output_type": "execute_result"
    }
   ],
   "source": [
    "obs_sample = env.observation_space.sample()\n",
    "obs_sample"
   ]
  },
  {
   "cell_type": "code",
   "execution_count": 5,
   "id": "61edaaca",
   "metadata": {},
   "outputs": [
    {
     "data": {
      "text/plain": [
       "(4, 4)"
      ]
     },
     "execution_count": 5,
     "metadata": {},
     "output_type": "execute_result"
    }
   ],
   "source": [
    "obs_sample.shape"
   ]
  },
  {
   "cell_type": "code",
   "execution_count": 6,
   "id": "2ddf54af",
   "metadata": {},
   "outputs": [
    {
     "data": {
      "text/plain": [
       "MultiDiscrete([2 2 2 2])"
      ]
     },
     "execution_count": 6,
     "metadata": {},
     "output_type": "execute_result"
    }
   ],
   "source": [
    "env.action_space"
   ]
  },
  {
   "cell_type": "code",
   "execution_count": 7,
   "id": "816f1d6e",
   "metadata": {},
   "outputs": [
    {
     "data": {
      "text/plain": [
       "array([1, 0, 1, 1])"
      ]
     },
     "execution_count": 7,
     "metadata": {},
     "output_type": "execute_result"
    }
   ],
   "source": [
    "actions_sample = env.action_space.sample()\n",
    "actions_sample"
   ]
  },
  {
   "cell_type": "code",
   "execution_count": 8,
   "id": "595fe447",
   "metadata": {},
   "outputs": [
    {
     "data": {
      "text/plain": [
       "tensor([[ 0.0483, -0.0035, -0.0103, -0.0365],\n",
       "        [ 0.0473, -0.0354,  0.0068,  0.0218],\n",
       "        [-0.0382, -0.0292,  0.0054,  0.0009],\n",
       "        [ 0.0395,  0.0053, -0.0017, -0.0498]])"
      ]
     },
     "execution_count": 8,
     "metadata": {},
     "output_type": "execute_result"
    }
   ],
   "source": [
    "states, info = env.reset()\n",
    "states"
   ]
  },
  {
   "cell_type": "code",
   "execution_count": 9,
   "id": "7af40433",
   "metadata": {},
   "outputs": [],
   "source": [
    "next_states, rewards, dones, terminated, _ = env.step(actions_sample)"
   ]
  },
  {
   "cell_type": "code",
   "execution_count": 10,
   "id": "fd0b37c3",
   "metadata": {},
   "outputs": [
    {
     "data": {
      "text/plain": [
       "tensor([[ 0.0482,  0.1917, -0.0111, -0.3324],\n",
       "        [ 0.0466, -0.2306,  0.0072,  0.3166],\n",
       "        [-0.0388,  0.1658,  0.0054, -0.2901],\n",
       "        [ 0.0396,  0.2004, -0.0027, -0.3430]])"
      ]
     },
     "execution_count": 10,
     "metadata": {},
     "output_type": "execute_result"
    }
   ],
   "source": [
    "next_states"
   ]
  },
  {
   "cell_type": "code",
   "execution_count": 11,
   "id": "9d7b0951",
   "metadata": {},
   "outputs": [
    {
     "data": {
      "text/plain": [
       "tensor([1., 1., 1., 1.])"
      ]
     },
     "execution_count": 11,
     "metadata": {},
     "output_type": "execute_result"
    }
   ],
   "source": [
    "rewards"
   ]
  },
  {
   "cell_type": "code",
   "execution_count": 12,
   "id": "ad3a52fd",
   "metadata": {},
   "outputs": [
    {
     "data": {
      "text/plain": [
       "tensor([False, False, False, False])"
      ]
     },
     "execution_count": 12,
     "metadata": {},
     "output_type": "execute_result"
    }
   ],
   "source": [
    "dones # done is when state successfully finished or passed"
   ]
  },
  {
   "cell_type": "code",
   "execution_count": 13,
   "id": "97886d12",
   "metadata": {},
   "outputs": [],
   "source": [
    "# test_dones = torch.from_numpy(dones)\n",
    "# for i in range(test_dones.size().numel()):\n",
    "#     print(test_dones[i])"
   ]
  },
  {
   "cell_type": "code",
   "execution_count": 14,
   "id": "435cfc89",
   "metadata": {},
   "outputs": [
    {
     "data": {
      "text/plain": [
       "tensor([False, False, False, False])"
      ]
     },
     "execution_count": 14,
     "metadata": {},
     "output_type": "execute_result"
    }
   ],
   "source": [
    "terminated # terminated is when agent failed "
   ]
  },
  {
   "cell_type": "markdown",
   "id": "9a368cfc",
   "metadata": {},
   "source": [
    "Setting up networks"
   ]
  },
  {
   "cell_type": "code",
   "execution_count": 15,
   "id": "94831b5b",
   "metadata": {},
   "outputs": [],
   "source": [
    "import random\n",
    "import numpy as np\n",
    "from src.ppo import *\n",
    "\n",
    "seed = 42\n",
    "torch.manual_seed(seed)\n",
    "np.random.seed(seed)\n",
    "random.seed(seed)"
   ]
  },
  {
   "cell_type": "code",
   "execution_count": 16,
   "id": "32502f77",
   "metadata": {},
   "outputs": [],
   "source": [
    "actor = Actor(4, 2, 256).to(device)\n",
    "critic = Critic(4, 1, 256).to(device)"
   ]
  },
  {
   "cell_type": "code",
   "execution_count": 17,
   "id": "64e34abd",
   "metadata": {},
   "outputs": [
    {
     "data": {
      "text/plain": [
       "Categorical(logits: torch.Size([4, 2]))"
      ]
     },
     "execution_count": 17,
     "metadata": {},
     "output_type": "execute_result"
    }
   ],
   "source": [
    "obs_sample = torch.from_numpy(obs_sample).to(device)\n",
    "dist = actor.forward(obs_sample)\n",
    "dist"
   ]
  },
  {
   "cell_type": "code",
   "execution_count": 18,
   "id": "8c4f1421",
   "metadata": {},
   "outputs": [],
   "source": [
    "test_sample = dist.sample()"
   ]
  },
  {
   "cell_type": "code",
   "execution_count": 19,
   "id": "54263ee4",
   "metadata": {},
   "outputs": [
    {
     "data": {
      "text/plain": [
       "tensor([-0.5726, -0.7315, -0.5330, -0.5507], grad_fn=<SqueezeBackward1>)"
      ]
     },
     "execution_count": 19,
     "metadata": {},
     "output_type": "execute_result"
    }
   ],
   "source": [
    "dist.log_prob(test_sample)"
   ]
  },
  {
   "cell_type": "code",
   "execution_count": 20,
   "id": "deff9ef9",
   "metadata": {},
   "outputs": [
    {
     "data": {
      "text/plain": [
       "tensor([0.5641, 0.4812, 0.5868, 0.5766], grad_fn=<ExpBackward0>)"
      ]
     },
     "execution_count": 20,
     "metadata": {},
     "output_type": "execute_result"
    }
   ],
   "source": [
    "dist.log_prob(test_sample).exp()"
   ]
  },
  {
   "cell_type": "code",
   "execution_count": 21,
   "id": "b29b938c",
   "metadata": {},
   "outputs": [
    {
     "data": {
      "text/plain": [
       "tensor([[-0.0930],\n",
       "        [ 0.1536],\n",
       "        [ 0.0372],\n",
       "        [-0.0265]], grad_fn=<AddmmBackward0>)"
      ]
     },
     "execution_count": 21,
     "metadata": {},
     "output_type": "execute_result"
    }
   ],
   "source": [
    "critic.forward(obs_sample)"
   ]
  },
  {
   "cell_type": "code",
   "execution_count": 22,
   "id": "b3704ddd",
   "metadata": {},
   "outputs": [],
   "source": [
    "# agent = Agent(actor, critic, 0.2, 0.99, 0.8, 0.5, 0.01, 0.0003, 0.0003, device, 8)\n",
    "agent = Agent(actor, critic, 0.2, 0.99, 0.95, 0.5, 0.01, 0.0003, 0.001, device, 64)"
   ]
  },
  {
   "cell_type": "code",
   "execution_count": 23,
   "id": "6d86ed94",
   "metadata": {},
   "outputs": [
    {
     "name": "stdout",
     "output_type": "stream",
     "text": [
      "finished episode: 0\n",
      "total reward: 1969.0\n",
      "number of steps: 512\n",
      "---------------\n",
      "new best model... saving...\n",
      "finished episode: 1\n",
      "total reward: 1982.0\n",
      "number of steps: 512\n",
      "---------------\n",
      "new best model... saving...\n",
      "finished episode: 2\n",
      "total reward: 1997.0\n",
      "number of steps: 512\n",
      "---------------\n",
      "new best model... saving...\n",
      "finished episode: 3\n",
      "total reward: 2005.0\n",
      "number of steps: 512\n",
      "---------------\n",
      "new best model... saving...\n",
      "finished episode: 4\n",
      "total reward: 2010.0\n",
      "number of steps: 512\n",
      "---------------\n",
      "new best model... saving...\n",
      "finished episode: 5\n",
      "total reward: 2022.0\n",
      "number of steps: 512\n",
      "---------------\n",
      "new best model... saving...\n",
      "finished episode: 6\n",
      "total reward: 2026.0\n",
      "number of steps: 512\n",
      "---------------\n",
      "new best model... saving...\n",
      "finished episode: 7\n",
      "total reward: 2024.0\n",
      "number of steps: 512\n",
      "---------------\n",
      "finished episode: 8\n",
      "total reward: 2033.0\n",
      "number of steps: 512\n",
      "---------------\n",
      "new best model... saving...\n",
      "finished episode: 9\n",
      "total reward: 2027.0\n",
      "number of steps: 512\n",
      "---------------\n",
      "finished episode: 10\n",
      "total reward: 2031.0\n",
      "number of steps: 512\n",
      "---------------\n",
      "finished episode: 11\n",
      "total reward: 2037.0\n",
      "number of steps: 512\n",
      "---------------\n",
      "new best model... saving...\n",
      "finished episode: 12\n",
      "total reward: 2033.0\n",
      "number of steps: 512\n",
      "---------------\n",
      "finished episode: 13\n",
      "total reward: 2031.0\n",
      "number of steps: 512\n",
      "---------------\n",
      "finished episode: 14\n",
      "total reward: 2034.0\n",
      "number of steps: 512\n",
      "---------------\n",
      "finished episode: 15\n",
      "total reward: 2034.0\n",
      "number of steps: 512\n",
      "---------------\n",
      "finished episode: 16\n",
      "total reward: 2037.0\n",
      "number of steps: 512\n",
      "---------------\n",
      "finished episode: 17\n",
      "total reward: 2038.0\n",
      "number of steps: 512\n",
      "---------------\n",
      "new best model... saving...\n",
      "finished episode: 18\n",
      "total reward: 2042.0\n",
      "number of steps: 512\n",
      "---------------\n",
      "new best model... saving...\n",
      "finished episode: 19\n",
      "total reward: 2039.0\n",
      "number of steps: 512\n",
      "---------------\n",
      "finished episode: 20\n",
      "total reward: 2041.0\n",
      "number of steps: 512\n",
      "---------------\n",
      "finished episode: 21\n",
      "total reward: 2044.0\n",
      "number of steps: 512\n",
      "---------------\n",
      "new best model... saving...\n",
      "finished episode: 22\n",
      "total reward: 2041.0\n",
      "number of steps: 512\n",
      "---------------\n",
      "finished episode: 23\n",
      "total reward: 2044.0\n",
      "number of steps: 512\n",
      "---------------\n",
      "finished episode: 24\n",
      "total reward: 2041.0\n",
      "number of steps: 512\n",
      "---------------\n",
      "finished episode: 25\n",
      "total reward: 2044.0\n",
      "number of steps: 512\n",
      "---------------\n",
      "finished episode: 26\n",
      "total reward: 2041.0\n",
      "number of steps: 512\n",
      "---------------\n",
      "finished episode: 27\n",
      "total reward: 2043.0\n",
      "number of steps: 512\n",
      "---------------\n",
      "finished episode: 28\n",
      "total reward: 2043.0\n",
      "number of steps: 512\n",
      "---------------\n",
      "finished episode: 29\n",
      "total reward: 2042.0\n",
      "number of steps: 512\n",
      "---------------\n",
      "finished episode: 30\n",
      "total reward: 2044.0\n",
      "number of steps: 512\n",
      "---------------\n",
      "finished episode: 31\n",
      "total reward: 2044.0\n",
      "number of steps: 512\n",
      "---------------\n",
      "finished episode: 32\n",
      "total reward: 2041.0\n",
      "number of steps: 512\n",
      "---------------\n",
      "finished episode: 33\n",
      "total reward: 2041.0\n",
      "number of steps: 512\n",
      "---------------\n",
      "finished episode: 34\n",
      "total reward: 2043.0\n",
      "number of steps: 512\n",
      "---------------\n",
      "finished episode: 35\n",
      "total reward: 2041.0\n",
      "number of steps: 512\n",
      "---------------\n",
      "finished episode: 36\n",
      "total reward: 2041.0\n",
      "number of steps: 512\n",
      "---------------\n",
      "finished episode: 37\n",
      "total reward: 2039.0\n",
      "number of steps: 512\n",
      "---------------\n",
      "finished episode: 38\n",
      "total reward: 2039.0\n",
      "number of steps: 512\n",
      "---------------\n",
      "finished episode: 39\n",
      "total reward: 2039.0\n",
      "number of steps: 512\n",
      "---------------\n",
      "finished episode: 40\n",
      "total reward: 2040.0\n",
      "number of steps: 512\n",
      "---------------\n",
      "finished episode: 41\n",
      "total reward: 2040.0\n",
      "number of steps: 512\n",
      "---------------\n",
      "finished episode: 42\n",
      "total reward: 2038.0\n",
      "number of steps: 512\n",
      "---------------\n",
      "finished episode: 43\n",
      "total reward: 2039.0\n",
      "number of steps: 512\n",
      "---------------\n",
      "finished episode: 44\n",
      "total reward: 2040.0\n",
      "number of steps: 512\n",
      "---------------\n",
      "finished episode: 45\n",
      "total reward: 2040.0\n",
      "number of steps: 512\n",
      "---------------\n",
      "finished episode: 46\n",
      "total reward: 2039.0\n",
      "number of steps: 512\n",
      "---------------\n",
      "finished episode: 47\n",
      "total reward: 2037.0\n",
      "number of steps: 512\n",
      "---------------\n",
      "finished episode: 48\n",
      "total reward: 2036.0\n",
      "number of steps: 512\n",
      "---------------\n",
      "finished episode: 49\n",
      "total reward: 2036.0\n",
      "number of steps: 512\n",
      "---------------\n",
      "finished episode: 50\n",
      "total reward: 2036.0\n",
      "number of steps: 512\n",
      "---------------\n",
      "finished episode: 51\n",
      "total reward: 2036.0\n",
      "number of steps: 512\n",
      "---------------\n",
      "finished episode: 52\n",
      "total reward: 2032.0\n",
      "number of steps: 512\n",
      "---------------\n",
      "finished episode: 53\n",
      "total reward: 2032.0\n",
      "number of steps: 512\n",
      "---------------\n",
      "finished episode: 54\n",
      "total reward: 2033.0\n",
      "number of steps: 512\n",
      "---------------\n",
      "finished episode: 55\n",
      "total reward: 2032.0\n",
      "number of steps: 512\n",
      "---------------\n",
      "finished episode: 56\n",
      "total reward: 2031.0\n",
      "number of steps: 512\n",
      "---------------\n",
      "finished episode: 57\n",
      "total reward: 2036.0\n",
      "number of steps: 512\n",
      "---------------\n",
      "finished episode: 58\n",
      "total reward: 2036.0\n",
      "number of steps: 512\n",
      "---------------\n",
      "finished episode: 59\n",
      "total reward: 2035.0\n",
      "number of steps: 512\n",
      "---------------\n",
      "finished episode: 60\n",
      "total reward: 2035.0\n",
      "number of steps: 512\n",
      "---------------\n",
      "finished episode: 61\n",
      "total reward: 2030.0\n",
      "number of steps: 512\n",
      "---------------\n",
      "finished episode: 62\n",
      "total reward: 2031.0\n",
      "number of steps: 512\n",
      "---------------\n",
      "finished episode: 63\n",
      "total reward: 2036.0\n",
      "number of steps: 512\n",
      "---------------\n",
      "finished episode: 64\n",
      "total reward: 2034.0\n",
      "number of steps: 512\n",
      "---------------\n",
      "finished episode: 65\n",
      "total reward: 2032.0\n",
      "number of steps: 512\n",
      "---------------\n",
      "finished episode: 66\n",
      "total reward: 2033.0\n",
      "number of steps: 512\n",
      "---------------\n",
      "finished episode: 67\n",
      "total reward: 2032.0\n",
      "number of steps: 512\n",
      "---------------\n",
      "finished episode: 68\n",
      "total reward: 2033.0\n",
      "number of steps: 512\n",
      "---------------\n",
      "finished episode: 69\n",
      "total reward: 2033.0\n",
      "number of steps: 512\n",
      "---------------\n",
      "finished episode: 70\n",
      "total reward: 2033.0\n",
      "number of steps: 512\n",
      "---------------\n",
      "finished episode: 71\n",
      "total reward: 2034.0\n",
      "number of steps: 512\n",
      "---------------\n",
      "finished episode: 72\n",
      "total reward: 2032.0\n",
      "number of steps: 512\n",
      "---------------\n",
      "finished episode: 73\n",
      "total reward: 2036.0\n",
      "number of steps: 512\n",
      "---------------\n",
      "finished episode: 74\n",
      "total reward: 2034.0\n",
      "number of steps: 512\n",
      "---------------\n",
      "finished episode: 75\n",
      "total reward: 2036.0\n",
      "number of steps: 512\n",
      "---------------\n",
      "finished episode: 76\n",
      "total reward: 2033.0\n",
      "number of steps: 512\n",
      "---------------\n",
      "finished episode: 77\n",
      "total reward: 2032.0\n",
      "number of steps: 512\n",
      "---------------\n",
      "finished episode: 78\n",
      "total reward: 2032.0\n",
      "number of steps: 512\n",
      "---------------\n",
      "finished episode: 79\n",
      "total reward: 2032.0\n",
      "number of steps: 512\n",
      "---------------\n"
     ]
    }
   ],
   "source": [
    "train(env, agent, 80, 512, 4, 'models/cartpole_agent.pt', True)"
   ]
  },
  {
   "cell_type": "code",
   "execution_count": 24,
   "id": "87b7b050",
   "metadata": {},
   "outputs": [
    {
     "data": {
      "text/plain": [
       "Text(0, 0.5, 'reward')"
      ]
     },
     "execution_count": 24,
     "metadata": {},
     "output_type": "execute_result"
    },
    {
     "data": {
      "image/png": "[encoded data removed]",
      "text/plain": [
       "<Figure size 640x480 with 1 Axes>"
      ]
     },
     "metadata": {},
     "output_type": "display_data"
    }
   ],
   "source": [
    "import matplotlib.pyplot as plt\n",
    "plt.plot(agent.all_rewards)\n",
    "plt.xlabel('episode')\n",
    "plt.ylabel('reward')    "
   ]
  },
  {
   "cell_type": "code",
   "execution_count": 25,
   "id": "43e88c81",
   "metadata": {},
   "outputs": [],
   "source": [
    "env.close()"
   ]
  },
  {
   "cell_type": "code",
   "execution_count": null,
   "id": "0ba901bc",
   "metadata": {},
   "outputs": [],
   "source": []
  }
 ],
 "metadata": {
  "kernelspec": {
   "display_name": "venv (3.10.12)",
   "language": "python",
   "name": "python3"
  },
  "language_info": {
   "codemirror_mode": {
    "name": "ipython",
    "version": 3
   },
   "file_extension": ".py",
   "mimetype": "text/x-python",
   "name": "python",
   "nbconvert_exporter": "python",
   "pygments_lexer": "ipython3",
   "version": "3.10.12"
  }
 },
 "nbformat": 4,
 "nbformat_minor": 5
}
