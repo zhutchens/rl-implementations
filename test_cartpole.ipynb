{
 "cells": [
  {
   "cell_type": "code",
   "execution_count": 1,
   "id": "aaae308b",
   "metadata": {},
   "outputs": [],
   "source": [
    "import torch \n",
    "import gymnasium as gym\n",
    "from src.ppo import Agent\n",
    "\n",
    "device = 'cpu'"
   ]
  },
  {
   "cell_type": "code",
   "execution_count": 2,
   "id": "be1f3f50",
   "metadata": {},
   "outputs": [],
   "source": [
    "env = gym.make('CartPole-v1', render_mode = 'human')\n",
    "agent = Agent.load_agent('models/cartpole_agent.pt', device)"
   ]
  },
  {
   "cell_type": "code",
   "execution_count": 3,
   "id": "adb8c6dc",
   "metadata": {},
   "outputs": [
    {
     "name": "stdout",
     "output_type": "stream",
     "text": [
      "evaluation reward: 259.0\n",
      "evaluation reward: 134.0\n",
      "evaluation reward: 166.0\n",
      "evaluation reward: 159.0\n",
      "evaluation reward: 194.0\n",
      "evaluation reward: 221.0\n",
      "evaluation reward: 216.0\n",
      "evaluation reward: 318.0\n",
      "evaluation reward: 129.0\n",
      "evaluation reward: 254.0\n",
      "average reward: 205.0\n"
     ]
    }
   ],
   "source": [
    "eval_rewards = 0\n",
    "eval_episodes = 10\n",
    "for i in range(eval_episodes):\n",
    "    done, truncated = False, False\n",
    "    state, _ = env.reset()\n",
    "    total_reward = 0\n",
    "\n",
    "    while not (done or truncated):\n",
    "        state_t = torch.tensor(state, dtype=torch.float32).unsqueeze(0).to(device)\n",
    "        with torch.no_grad():\n",
    "            dist = agent.actor(state_t)\n",
    "            action = dist.probs.argmax(dim = 1)\n",
    "            state, reward, done, truncated, _ = env.step(action.item())\n",
    "            total_reward += reward\n",
    "\n",
    "    print(\"evaluation reward:\", total_reward)\n",
    "    eval_rewards += total_reward\n",
    "\n",
    "print('average reward:', eval_rewards / eval_episodes)"
   ]
  },
  {
   "cell_type": "code",
   "execution_count": 4,
   "id": "4abdee8b",
   "metadata": {},
   "outputs": [],
   "source": [
    "env.close()"
   ]
  },
  {
   "cell_type": "code",
   "execution_count": null,
   "id": "9b6b0576",
   "metadata": {},
   "outputs": [],
   "source": []
  }
 ],
 "metadata": {
  "kernelspec": {
   "display_name": "venv (3.10.12)",
   "language": "python",
   "name": "python3"
  },
  "language_info": {
   "codemirror_mode": {
    "name": "ipython",
    "version": 3
   },
   "file_extension": ".py",
   "mimetype": "text/x-python",
   "name": "python",
   "nbconvert_exporter": "python",
   "pygments_lexer": "ipython3",
   "version": "3.10.12"
  }
 },
 "nbformat": 4,
 "nbformat_minor": 5
}
