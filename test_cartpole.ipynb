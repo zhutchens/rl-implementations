{
 "cells": [
  {
   "cell_type": "code",
   "execution_count": null,
   "id": "aaae308b",
   "metadata": {},
   "outputs": [
    {
     "name": "stderr",
     "output_type": "stream",
     "text": [
      "/home/zhutchens/projects/RL/venv/lib/python3.10/site-packages/torch/cuda/__init__.py:182: UserWarning: CUDA initialization: CUDA unknown error - this may be due to an incorrectly set up environment, e.g. changing env variable CUDA_VISIBLE_DEVICES after program start. Setting the available devices to be zero. (Triggered internally at /pytorch/c10/cuda/CUDAFunctions.cpp:109.)\n",
      "  return torch._C._cuda_getDeviceCount() > 0\n"
     ]
    }
   ],
   "source": [
    "import gymnasium as gym\n",
    "from gymnasium.wrappers.vector import NumpyToTorch\n",
    "from src.ppo import Agent, evaluate\n",
    "import torch\n",
    "\n",
    "device = 'cuda' if torch.cuda.is_available() else 'cpu'"
   ]
  },
  {
   "cell_type": "code",
   "execution_count": null,
   "id": "be1f3f50",
   "metadata": {},
   "outputs": [],
   "source": [
    "env = gym.make_vec('CartPole-v1', render_mode = 'human')\n",
    "env = NumpyToTorch(env)\n",
    "\n",
    "agent = Agent.load_agent('models/cartpole_agent.pt', device)"
   ]
  },
  {
   "cell_type": "code",
   "execution_count": 3,
   "id": "adb8c6dc",
   "metadata": {},
   "outputs": [
    {
     "name": "stdout",
     "output_type": "stream",
     "text": [
      "evaluation reward: 500.0\n",
      "evaluation reward: 500.0\n",
      "evaluation reward: 500.0\n",
      "evaluation reward: 500.0\n",
      "evaluation reward: 500.0\n",
      "average reward: 500.0\n"
     ]
    }
   ],
   "source": [
    "evaluate(env, 5, agent)"
   ]
  },
  {
   "cell_type": "code",
   "execution_count": 4,
   "id": "4abdee8b",
   "metadata": {},
   "outputs": [],
   "source": [
    "env.close()"
   ]
  },
  {
   "cell_type": "code",
   "execution_count": null,
   "id": "9b6b0576",
   "metadata": {},
   "outputs": [
    {
     "name": "stdout",
     "output_type": "stream",
     "text": [
      "evaluation reward: 500.0\n",
      "evaluation reward: 500.0\n",
      "evaluation reward: 500.0\n",
      "evaluation reward: 500.0\n",
      "evaluation reward: 500.0\n",
      "evaluation reward: 500.0\n",
      "evaluation reward: 500.0\n",
      "evaluation reward: 500.0\n",
      "evaluation reward: 500.0\n",
      "evaluation reward: 500.0\n",
      "evaluation reward: 500.0\n",
      "evaluation reward: 500.0\n",
      "evaluation reward: 500.0\n",
      "evaluation reward: 500.0\n",
      "evaluation reward: 500.0\n",
      "evaluation reward: 500.0\n",
      "evaluation reward: 500.0\n",
      "evaluation reward: 500.0\n",
      "evaluation reward: 500.0\n",
      "evaluation reward: 500.0\n",
      "evaluation reward: 500.0\n",
      "evaluation reward: 500.0\n",
      "evaluation reward: 500.0\n",
      "evaluation reward: 500.0\n",
      "evaluation reward: 500.0\n",
      "evaluation reward: 500.0\n",
      "evaluation reward: 500.0\n",
      "evaluation reward: 500.0\n",
      "evaluation reward: 500.0\n",
      "evaluation reward: 500.0\n",
      "evaluation reward: 500.0\n",
      "evaluation reward: 500.0\n",
      "evaluation reward: 500.0\n",
      "evaluation reward: 500.0\n",
      "evaluation reward: 500.0\n",
      "evaluation reward: 500.0\n",
      "evaluation reward: 500.0\n",
      "evaluation reward: 500.0\n",
      "evaluation reward: 500.0\n",
      "evaluation reward: 500.0\n",
      "evaluation reward: 500.0\n",
      "evaluation reward: 500.0\n",
      "evaluation reward: 500.0\n",
      "evaluation reward: 500.0\n",
      "evaluation reward: 500.0\n",
      "evaluation reward: 500.0\n",
      "evaluation reward: 500.0\n",
      "evaluation reward: 500.0\n",
      "evaluation reward: 500.0\n",
      "evaluation reward: 500.0\n",
      "evaluation reward: 500.0\n",
      "evaluation reward: 500.0\n",
      "evaluation reward: 500.0\n",
      "evaluation reward: 500.0\n",
      "evaluation reward: 500.0\n",
      "evaluation reward: 500.0\n",
      "evaluation reward: 500.0\n",
      "evaluation reward: 500.0\n",
      "evaluation reward: 500.0\n",
      "evaluation reward: 500.0\n",
      "evaluation reward: 500.0\n",
      "evaluation reward: 500.0\n",
      "evaluation reward: 500.0\n",
      "evaluation reward: 500.0\n",
      "evaluation reward: 500.0\n",
      "evaluation reward: 500.0\n",
      "evaluation reward: 500.0\n",
      "evaluation reward: 500.0\n",
      "evaluation reward: 500.0\n",
      "evaluation reward: 500.0\n",
      "evaluation reward: 500.0\n",
      "evaluation reward: 500.0\n",
      "evaluation reward: 500.0\n",
      "evaluation reward: 500.0\n",
      "evaluation reward: 500.0\n",
      "evaluation reward: 500.0\n",
      "evaluation reward: 500.0\n",
      "evaluation reward: 500.0\n",
      "evaluation reward: 500.0\n",
      "evaluation reward: 500.0\n",
      "evaluation reward: 500.0\n",
      "evaluation reward: 500.0\n",
      "evaluation reward: 500.0\n",
      "evaluation reward: 500.0\n",
      "evaluation reward: 500.0\n",
      "evaluation reward: 500.0\n",
      "evaluation reward: 500.0\n",
      "evaluation reward: 500.0\n",
      "evaluation reward: 500.0\n",
      "evaluation reward: 500.0\n",
      "evaluation reward: 500.0\n",
      "evaluation reward: 500.0\n",
      "evaluation reward: 500.0\n",
      "evaluation reward: 500.0\n",
      "evaluation reward: 500.0\n",
      "evaluation reward: 500.0\n",
      "evaluation reward: 479.0\n",
      "evaluation reward: 500.0\n",
      "evaluation reward: 500.0\n",
      "evaluation reward: 500.0\n",
      "average reward: 499.79\n"
     ]
    }
   ],
   "source": [
    "env = gym.make_vec('CartPole-v1')\n",
    "env = NumpyToTorch(env)\n",
    "\n",
    "evaluate(env, 100, agent)"
   ]
  },
  {
   "cell_type": "code",
   "execution_count": 6,
   "id": "6973d7c8",
   "metadata": {},
   "outputs": [],
   "source": [
    "env.close()"
   ]
  }
 ],
 "metadata": {
  "kernelspec": {
   "display_name": "venv (3.10.12)",
   "language": "python",
   "name": "python3"
  },
  "language_info": {
   "codemirror_mode": {
    "name": "ipython",
    "version": 3
   },
   "file_extension": ".py",
   "mimetype": "text/x-python",
   "name": "python",
   "nbconvert_exporter": "python",
   "pygments_lexer": "ipython3",
   "version": "3.10.12"
  }
 },
 "nbformat": 4,
 "nbformat_minor": 5
}
