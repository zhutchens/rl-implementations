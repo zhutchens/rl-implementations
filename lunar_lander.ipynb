{
 "cells": [
  {
   "cell_type": "code",
   "execution_count": 1,
   "id": "b41e917b",
   "metadata": {},
   "outputs": [],
   "source": [
    "import gymnasium as gym\n",
    "import torch\n",
    "import sys"
   ]
  },
  {
   "cell_type": "code",
   "execution_count": 2,
   "id": "8b2f0d04",
   "metadata": {},
   "outputs": [],
   "source": [
    "env = gym.make_vec('LunarLander-v3', num_envs = 4)"
   ]
  },
  {
   "cell_type": "code",
   "execution_count": 3,
   "id": "001819ea",
   "metadata": {},
   "outputs": [
    {
     "data": {
      "text/plain": [
       "Box([[ -2.5        -2.5       -10.        -10.         -6.2831855 -10.\n",
       "   -0.         -0.       ]\n",
       " [ -2.5        -2.5       -10.        -10.         -6.2831855 -10.\n",
       "   -0.         -0.       ]\n",
       " [ -2.5        -2.5       -10.        -10.         -6.2831855 -10.\n",
       "   -0.         -0.       ]\n",
       " [ -2.5        -2.5       -10.        -10.         -6.2831855 -10.\n",
       "   -0.         -0.       ]], [[ 2.5        2.5       10.        10.         6.2831855 10.\n",
       "   1.         1.       ]\n",
       " [ 2.5        2.5       10.        10.         6.2831855 10.\n",
       "   1.         1.       ]\n",
       " [ 2.5        2.5       10.        10.         6.2831855 10.\n",
       "   1.         1.       ]\n",
       " [ 2.5        2.5       10.        10.         6.2831855 10.\n",
       "   1.         1.       ]], (4, 8), float32)"
      ]
     },
     "execution_count": 3,
     "metadata": {},
     "output_type": "execute_result"
    }
   ],
   "source": [
    "env.observation_space"
   ]
  },
  {
   "cell_type": "code",
   "execution_count": 4,
   "id": "4df50755",
   "metadata": {},
   "outputs": [
    {
     "data": {
      "text/plain": [
       "array([[ 0.44748777, -2.312572  ,  1.2642175 ,  9.7698    , -1.2552831 ,\n",
       "         8.596922  ,  0.21509914,  0.25256023],\n",
       "       [-0.945145  , -0.9545386 , -2.4618263 , -3.597326  ,  0.59580344,\n",
       "         3.2782707 ,  0.7986262 ,  0.1646779 ],\n",
       "       [-0.765997  ,  1.5410225 , -1.4091359 , -0.358053  ,  1.5071638 ,\n",
       "        -3.1281674 ,  0.03703095,  0.6593081 ],\n",
       "       [-0.6173986 , -1.6826386 ,  1.0004673 ,  3.242899  , -5.3144646 ,\n",
       "         4.4133782 ,  0.22535437,  0.23393273]], dtype=float32)"
      ]
     },
     "execution_count": 4,
     "metadata": {},
     "output_type": "execute_result"
    }
   ],
   "source": [
    "obs_sample = env.observation_space.sample()\n",
    "obs_sample"
   ]
  },
  {
   "cell_type": "code",
   "execution_count": 5,
   "id": "61edaaca",
   "metadata": {},
   "outputs": [
    {
     "data": {
      "text/plain": [
       "(4, 8)"
      ]
     },
     "execution_count": 5,
     "metadata": {},
     "output_type": "execute_result"
    }
   ],
   "source": [
    "obs_sample.shape"
   ]
  },
  {
   "cell_type": "code",
   "execution_count": 6,
   "id": "2ddf54af",
   "metadata": {},
   "outputs": [
    {
     "data": {
      "text/plain": [
       "MultiDiscrete([4 4 4 4])"
      ]
     },
     "execution_count": 6,
     "metadata": {},
     "output_type": "execute_result"
    }
   ],
   "source": [
    "env.action_space"
   ]
  },
  {
   "cell_type": "code",
   "execution_count": 7,
   "id": "816f1d6e",
   "metadata": {},
   "outputs": [
    {
     "data": {
      "text/plain": [
       "array([3, 1, 3, 1])"
      ]
     },
     "execution_count": 7,
     "metadata": {},
     "output_type": "execute_result"
    }
   ],
   "source": [
    "actions_sample = env.action_space.sample()\n",
    "actions_sample"
   ]
  },
  {
   "cell_type": "code",
   "execution_count": 8,
   "id": "595fe447",
   "metadata": {},
   "outputs": [
    {
     "data": {
      "text/plain": [
       "array([[-1.1797905e-03,  1.4014894e+00, -1.1951701e-01, -4.1913673e-01,\n",
       "         1.3738930e-03,  2.7072394e-02,  0.0000000e+00,  0.0000000e+00],\n",
       "       [ 6.7546843e-03,  1.4133019e+00,  6.8415338e-01,  1.0584520e-01,\n",
       "        -7.8201331e-03, -1.5497103e-01,  0.0000000e+00,  0.0000000e+00],\n",
       "       [ 4.6447753e-03,  1.4069952e+00,  4.7044951e-01, -1.7444031e-01,\n",
       "        -5.3753429e-03, -1.0656377e-01,  0.0000000e+00,  0.0000000e+00],\n",
       "       [-3.4833909e-03,  1.4201725e+00, -3.5283408e-01,  4.1121399e-01,\n",
       "         4.0430767e-03,  7.9922289e-02,  0.0000000e+00,  0.0000000e+00]],\n",
       "      dtype=float32)"
      ]
     },
     "execution_count": 8,
     "metadata": {},
     "output_type": "execute_result"
    }
   ],
   "source": [
    "states, info = env.reset()\n",
    "states"
   ]
  },
  {
   "cell_type": "code",
   "execution_count": 9,
   "id": "7af40433",
   "metadata": {},
   "outputs": [],
   "source": [
    "next_states, rewards, dones, terminated, _ = env.step(actions_sample)"
   ]
  },
  {
   "cell_type": "code",
   "execution_count": 10,
   "id": "fd0b37c3",
   "metadata": {},
   "outputs": [
    {
     "data": {
      "text/plain": [
       "array([[-2.2675514e-03,  1.3914794e+00, -1.0777588e-01, -4.4488612e-01,\n",
       "         3.8926295e-04, -1.9693913e-02,  0.0000000e+00,  0.0000000e+00],\n",
       "       [ 1.3423729e-02,  1.4151100e+00,  6.7246151e-01,  8.0320738e-02,\n",
       "        -1.3318105e-02, -1.0996882e-01,  0.0000000e+00,  0.0000000e+00],\n",
       "       [ 9.3564987e-03,  1.4025036e+00,  4.7819933e-01, -1.9966845e-01,\n",
       "        -1.2321948e-02, -1.3894440e-01,  0.0000000e+00,  0.0000000e+00],\n",
       "       [-7.0319176e-03,  1.4288518e+00, -3.6050764e-01,  3.8572267e-01,\n",
       "         9.6268412e-03,  1.1168589e-01,  0.0000000e+00,  0.0000000e+00]],\n",
       "      dtype=float32)"
      ]
     },
     "execution_count": 10,
     "metadata": {},
     "output_type": "execute_result"
    }
   ],
   "source": [
    "next_states"
   ]
  },
  {
   "cell_type": "code",
   "execution_count": 11,
   "id": "9d7b0951",
   "metadata": {},
   "outputs": [
    {
     "data": {
      "text/plain": [
       "array([-1.12174097,  0.73976798, -1.92400182, -0.07033965])"
      ]
     },
     "execution_count": 11,
     "metadata": {},
     "output_type": "execute_result"
    }
   ],
   "source": [
    "rewards"
   ]
  },
  {
   "cell_type": "code",
   "execution_count": 12,
   "id": "ad3a52fd",
   "metadata": {},
   "outputs": [
    {
     "data": {
      "text/plain": [
       "array([False, False, False, False])"
      ]
     },
     "execution_count": 12,
     "metadata": {},
     "output_type": "execute_result"
    }
   ],
   "source": [
    "dones # done is when state successfully finished or passed"
   ]
  },
  {
   "cell_type": "code",
   "execution_count": 13,
   "id": "435cfc89",
   "metadata": {},
   "outputs": [
    {
     "data": {
      "text/plain": [
       "array([False, False, False, False])"
      ]
     },
     "execution_count": 13,
     "metadata": {},
     "output_type": "execute_result"
    }
   ],
   "source": [
    "terminated # terminated is when agent failed "
   ]
  },
  {
   "cell_type": "code",
   "execution_count": 14,
   "id": "94831b5b",
   "metadata": {},
   "outputs": [
    {
     "name": "stderr",
     "output_type": "stream",
     "text": [
      "/home/zhutchens/projects/RL/venv/lib/python3.10/site-packages/tqdm/auto.py:21: TqdmWarning: IProgress not found. Please update jupyter and ipywidgets. See https://ipywidgets.readthedocs.io/en/stable/user_install.html\n",
      "  from .autonotebook import tqdm as notebook_tqdm\n"
     ]
    },
    {
     "data": {
      "text/plain": [
       "device(type='cuda')"
      ]
     },
     "execution_count": 14,
     "metadata": {},
     "output_type": "execute_result"
    }
   ],
   "source": [
    "from src.ppo import *\n",
    "from src.tune_hyperparams import return_obj\n",
    "import optuna\n",
    "import random\n",
    "import numpy as np\n",
    "\n",
    "seed = 42\n",
    "torch.manual_seed(seed)\n",
    "np.random.seed(seed)\n",
    "random.seed(seed)\n",
    "\n",
    "device = torch.device('cuda') if torch.cuda.is_available() else 'cpu'\n",
    "device"
   ]
  },
  {
   "cell_type": "code",
   "execution_count": 15,
   "id": "32502f77",
   "metadata": {},
   "outputs": [],
   "source": [
    "actor = Actor(8, 4, 256).to(device)\n",
    "critic = Critic(8, 1, 256).to(device)"
   ]
  },
  {
   "cell_type": "code",
   "execution_count": 16,
   "id": "64e34abd",
   "metadata": {},
   "outputs": [
    {
     "data": {
      "text/plain": [
       "Categorical(logits: torch.Size([4, 4]))"
      ]
     },
     "execution_count": 16,
     "metadata": {},
     "output_type": "execute_result"
    }
   ],
   "source": [
    "obs_sample = torch.from_numpy(obs_sample).to(device)\n",
    "dist = actor.forward(obs_sample)\n",
    "dist"
   ]
  },
  {
   "cell_type": "code",
   "execution_count": 17,
   "id": "8c4f1421",
   "metadata": {},
   "outputs": [],
   "source": [
    "test_sample = dist.sample()"
   ]
  },
  {
   "cell_type": "code",
   "execution_count": 18,
   "id": "54263ee4",
   "metadata": {},
   "outputs": [
    {
     "data": {
      "text/plain": [
       "tensor([-1.4937, -1.5034, -1.2137, -1.6737], device='cuda:0',\n",
       "       grad_fn=<SqueezeBackward1>)"
      ]
     },
     "execution_count": 18,
     "metadata": {},
     "output_type": "execute_result"
    }
   ],
   "source": [
    "dist.log_prob(test_sample)"
   ]
  },
  {
   "cell_type": "code",
   "execution_count": 19,
   "id": "deff9ef9",
   "metadata": {},
   "outputs": [
    {
     "data": {
      "text/plain": [
       "tensor([0.2245, 0.2224, 0.2971, 0.1876], device='cuda:0',\n",
       "       grad_fn=<ExpBackward0>)"
      ]
     },
     "execution_count": 19,
     "metadata": {},
     "output_type": "execute_result"
    }
   ],
   "source": [
    "dist.log_prob(test_sample).exp()"
   ]
  },
  {
   "cell_type": "code",
   "execution_count": 20,
   "id": "b29b938c",
   "metadata": {},
   "outputs": [
    {
     "data": {
      "text/plain": [
       "tensor([[-0.3053],\n",
       "        [-0.0186],\n",
       "        [-0.2330],\n",
       "        [ 0.0091]], device='cuda:0', grad_fn=<AddmmBackward0>)"
      ]
     },
     "execution_count": 20,
     "metadata": {},
     "output_type": "execute_result"
    }
   ],
   "source": [
    "critic.forward(obs_sample)"
   ]
  },
  {
   "cell_type": "code",
   "execution_count": null,
   "id": "bb356481",
   "metadata": {},
   "outputs": [
    {
     "name": "stderr",
     "output_type": "stream",
     "text": [
      "[I 2025-10-09 22:56:53,234] A new study created in memory with name: no-name-336e2537-7f8a-400a-9e0f-c51ae9886f76\n",
      "[I 2025-10-09 22:58:43,654] Trial 0 finished with value: -101676.68285359218 and parameters: {'actor_in_feats': 8, 'actor_out_feats': 4, 'actor_hs': 200, 'critic_in_feats': 8, 'critic_out_feats': 1, 'critic_hs': 132, 'epsilon': 0.22043369308674093, 'gamma': 0.9578118925872531, 'lambda': 0.9206397160348497, 'actor_lr': 0.00025512010401112205, 'critic_lr': 0.0009802859534456775, 'batch_size': 241, 'c1': 0, 'c2': 0}. Best is trial 0 with value: -101676.68285359218.\n",
      "[I 2025-10-09 23:00:42,441] Trial 1 finished with value: -89748.64705340193 and parameters: {'actor_in_feats': 8, 'actor_out_feats': 4, 'actor_hs': 67, 'critic_in_feats': 8, 'critic_out_feats': 1, 'critic_hs': 68, 'epsilon': 0.10679724150952885, 'gamma': 0.9624087880857666, 'lambda': 0.978809555396285, 'actor_lr': 0.00011149556645605471, 'critic_lr': 0.00037268261485302786, 'batch_size': 129, 'c1': 0, 'c2': 0}. Best is trial 1 with value: -89748.64705340193.\n",
      "[I 2025-10-09 23:02:44,986] Trial 2 finished with value: -138789.88184740013 and parameters: {'actor_in_feats': 8, 'actor_out_feats': 4, 'actor_hs': 109, 'critic_in_feats': 8, 'critic_out_feats': 1, 'critic_hs': 167, 'epsilon': 0.25129330479043743, 'gamma': 0.9044915984438855, 'lambda': 0.9446969810775858, 'actor_lr': 0.0001259137664813094, 'critic_lr': 0.0006011103060925552, 'batch_size': 252, 'c1': 0, 'c2': 0}. Best is trial 1 with value: -89748.64705340193.\n",
      "[I 2025-10-09 23:04:50,834] Trial 3 finished with value: -74029.70807611119 and parameters: {'actor_in_feats': 8, 'actor_out_feats': 4, 'actor_hs': 178, 'critic_in_feats': 8, 'critic_out_feats': 1, 'critic_hs': 208, 'epsilon': 0.15595689628347498, 'gamma': 0.9809496376154504, 'lambda': 0.9588284997264646, 'actor_lr': 0.00033995863631770156, 'critic_lr': 0.0004934323522536034, 'batch_size': 210, 'c1': 0, 'c2': 0}. Best is trial 3 with value: -74029.70807611119.\n",
      "[I 2025-10-09 23:07:25,019] Trial 4 finished with value: -83024.1013849015 and parameters: {'actor_in_feats': 8, 'actor_out_feats': 4, 'actor_hs': 139, 'critic_in_feats': 8, 'critic_out_feats': 1, 'critic_hs': 183, 'epsilon': 0.280447745876684, 'gamma': 0.9524652198297237, 'lambda': 0.981201262085875, 'actor_lr': 0.000624941758600384, 'critic_lr': 0.00013320932634961738, 'batch_size': 72, 'c1': 0, 'c2': 0}. Best is trial 3 with value: -74029.70807611119.\n",
      "[I 2025-10-09 23:09:46,032] Trial 5 finished with value: -139073.83091377266 and parameters: {'actor_in_feats': 8, 'actor_out_feats': 4, 'actor_hs': 184, 'critic_in_feats': 8, 'critic_out_feats': 1, 'critic_hs': 81, 'epsilon': 0.21815106366986964, 'gamma': 0.9150466734584044, 'lambda': 0.9548627554014394, 'actor_lr': 1.2606818480785915e-05, 'critic_lr': 0.0009506198593845554, 'batch_size': 80, 'c1': 0, 'c2': 0}. Best is trial 3 with value: -74029.70807611119.\n",
      "[I 2025-10-09 23:11:55,717] Trial 6 finished with value: -126952.11177131403 and parameters: {'actor_in_feats': 8, 'actor_out_feats': 4, 'actor_hs': 159, 'critic_in_feats': 8, 'critic_out_feats': 1, 'critic_hs': 82, 'epsilon': 0.13928460055939945, 'gamma': 0.9564843525057962, 'lambda': 0.977096151390945, 'actor_lr': 0.00023788583689149885, 'critic_lr': 0.00016444700111225126, 'batch_size': 110, 'c1': 0, 'c2': 0}. Best is trial 3 with value: -74029.70807611119.\n",
      "[I 2025-10-09 23:14:00,563] Trial 7 finished with value: -108596.74018373368 and parameters: {'actor_in_feats': 8, 'actor_out_feats': 4, 'actor_hs': 223, 'critic_in_feats': 8, 'critic_out_feats': 1, 'critic_hs': 151, 'epsilon': 0.23510022975310269, 'gamma': 0.9098166974337283, 'lambda': 0.9633743953956855, 'actor_lr': 7.132276055402543e-05, 'critic_lr': 0.0002008211174234296, 'batch_size': 135, 'c1': 0, 'c2': 0}. Best is trial 3 with value: -74029.70807611119.\n",
      "[I 2025-10-09 23:20:32,266] Trial 8 finished with value: -168617.09215949336 and parameters: {'actor_in_feats': 8, 'actor_out_feats': 4, 'actor_hs': 109, 'critic_in_feats': 8, 'critic_out_feats': 1, 'critic_hs': 78, 'epsilon': 0.2109546645708658, 'gamma': 0.9391520337974074, 'lambda': 0.9929832189982326, 'actor_lr': 2.2763146384943736e-05, 'critic_lr': 0.0006816146787326871, 'batch_size': 9, 'c1': 0, 'c2': 0}. Best is trial 3 with value: -74029.70807611119.\n",
      "[I 2025-10-09 23:22:30,672] Trial 9 finished with value: -329077.2784273424 and parameters: {'actor_in_feats': 8, 'actor_out_feats': 4, 'actor_hs': 78, 'critic_in_feats': 8, 'critic_out_feats': 1, 'critic_hs': 233, 'epsilon': 0.18872401856467702, 'gamma': 0.9289960124721439, 'lambda': 0.9821058842245088, 'actor_lr': 0.0009747229408406091, 'critic_lr': 0.0006167046426062525, 'batch_size': 255, 'c1': 0, 'c2': 0}. Best is trial 3 with value: -74029.70807611119.\n",
      "[I 2025-10-09 23:24:30,138] Trial 10 finished with value: -132182.46896932428 and parameters: {'actor_in_feats': 8, 'actor_out_feats': 4, 'actor_hs': 253, 'critic_in_feats': 8, 'critic_out_feats': 1, 'critic_hs': 252, 'epsilon': 0.16264321341268587, 'gamma': 0.9941156672305639, 'lambda': 0.9015223666317599, 'actor_lr': 0.000510488327427247, 'critic_lr': 0.0003951749805363227, 'batch_size': 185, 'c1': 0, 'c2': 0}. Best is trial 3 with value: -74029.70807611119.\n"
     ]
    }
   ],
   "source": [
    "params = {\n",
    "    \"actor_in_feats\": (8, 8, \"int\"),\n",
    "    \"actor_out_feats\": (4, 4, \"int\"),\n",
    "    \"actor_hs\": (64, 256, \"int\"),\n",
    "    \"critic_in_feats\": (8, 8, \"int\"),\n",
    "    \"critic_out_feats\": (1, 1, \"int\"),\n",
    "    \"critic_hs\": (64, 256, \"int\"),\n",
    "    \"epsilon\": (0.1, 0.3, \"float\"),\n",
    "    \"gamma\": (0.9, 0.999, \"float\"),\n",
    "    \"lambda\": (0.9, 1.0, \"float\"),\n",
    "    \"actor_lr\": (1e-5, 1e-3, \"float\"),\n",
    "    \"critic_lr\": (1e-5, 1e-3, \"float\"),\n",
    "    \"batch_size\": (4, 256, \"int\"),\n",
    "    \"c1\": (0.01, 0.2, \"int\"),\n",
    "    \"c2\": (0.01, 0.2, \"int\")\n",
    "}\n",
    "\n",
    "objective = return_obj(env, device, 500, 128, 4, train, params)\n",
    "study = optuna.create_study(direction = 'maximize')\n",
    "study.optimize(objective, n_trials = 50)"
   ]
  },
  {
   "cell_type": "code",
   "execution_count": null,
   "id": "007efc8d",
   "metadata": {},
   "outputs": [
    {
     "data": {
      "text/plain": [
       "{'actor_in_feats': 8,\n",
       " 'actor_out_feats': 4,\n",
       " 'actor_hs': 186,\n",
       " 'critic_in_feats': 8,\n",
       " 'critic_out_feats': 1,\n",
       " 'critic_hs': 232,\n",
       " 'epsilon': 0.2975842809617252,\n",
       " 'gamma': 0.9985670435741899,\n",
       " 'lambda': 0.9650146270424367,\n",
       " 'actor_lr': 0.0002229043296480284,\n",
       " 'critic_lr': 0.0003966104592736233,\n",
       " 'batch_size': 137}"
      ]
     },
     "execution_count": 22,
     "metadata": {},
     "output_type": "execute_result"
    }
   ],
   "source": [
    "study.best_params"
   ]
  },
  {
   "cell_type": "code",
   "execution_count": null,
   "id": "b3704ddd",
   "metadata": {},
   "outputs": [],
   "source": [
    "actor = Actor(8, 4, study.best_params['actor_hs'])\n",
    "critic = Critic(8, 1, study.best_params['critic_hs'])\n",
    "\n",
    "agent = Agent(\n",
    "    actor, \n",
    "    critic, \n",
    "    study.best_params['epsilon'], \n",
    "    study.best_params['gamma'], \n",
    "    study.best_params['lamda'], \n",
    "    study.best_params['c1'], \n",
    "    study.best_params['c2'],\n",
    "    study.best_params['actor_lr'],\n",
    "    study.best_params['critic_lr'], \n",
    "    device, \n",
    "    study.best_params['batch_size']\n",
    ")"
   ]
  },
  {
   "cell_type": "code",
   "execution_count": null,
   "id": "6d86ed94",
   "metadata": {},
   "outputs": [],
   "source": [
    "train(env, agent, 3000, 128, 4)"
   ]
  },
  {
   "cell_type": "code",
   "execution_count": null,
   "id": "87b7b050",
   "metadata": {},
   "outputs": [],
   "source": [
    "import matplotlib.pyplot as plt\n",
    "plt.figure(figsize = (15, 5))\n",
    "plt.plot(agent.all_rewards)\n",
    "plt.xlabel('episode')\n",
    "plt.ylabel('reward')"
   ]
  },
  {
   "cell_type": "code",
   "execution_count": null,
   "id": "43e88c81",
   "metadata": {},
   "outputs": [],
   "source": [
    "env.close()\n",
    "eval_env = gym.make('LunarLander-v3')"
   ]
  },
  {
   "cell_type": "code",
   "execution_count": null,
   "id": "413b1ff9",
   "metadata": {},
   "outputs": [],
   "source": [
    "evaluate(eval_env, agent)"
   ]
  },
  {
   "cell_type": "code",
   "execution_count": null,
   "id": "c810dc1d",
   "metadata": {},
   "outputs": [],
   "source": []
  }
 ],
 "metadata": {
  "kernelspec": {
   "display_name": "venv (3.10.12)",
   "language": "python",
   "name": "python3"
  },
  "language_info": {
   "codemirror_mode": {
    "name": "ipython",
    "version": 3
   },
   "file_extension": ".py",
   "mimetype": "text/x-python",
   "name": "python",
   "nbconvert_exporter": "python",
   "pygments_lexer": "ipython3",
   "version": "3.10.12"
  }
 },
 "nbformat": 4,
 "nbformat_minor": 5
}
